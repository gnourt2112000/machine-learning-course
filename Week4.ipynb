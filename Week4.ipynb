{
  "nbformat": 4,
  "nbformat_minor": 0,
  "metadata": {
    "colab": {
      "name": "Week4.ipynb",
      "provenance": [],
      "authorship_tag": "ABX9TyOfS2s66z1aySNTJ0NfYBIO",
      "include_colab_link": true
    },
    "kernelspec": {
      "name": "python3",
      "display_name": "Python 3"
    }
  },
  "cells": [
    {
      "cell_type": "markdown",
      "metadata": {
        "id": "view-in-github",
        "colab_type": "text"
      },
      "source": [
        "<a href=\"https://colab.research.google.com/github/gnourt2112000/machine-learning-course/blob/master/Week4.ipynb\" target=\"_parent\"><img src=\"https://colab.research.google.com/assets/colab-badge.svg\" alt=\"Open In Colab\"/></a>"
      ]
    },
    {
      "cell_type": "code",
      "metadata": {
        "id": "hG_cvOu07nxW"
      },
      "source": [
        "from scipy.spatial.distance import cdist\r\n",
        "import numpy as np\r\n",
        "from sklearn.datasets import load_iris\r\n",
        "data = load_iris()\r\n",
        "X, Y = data['data'], data['target']"
      ],
      "execution_count": null,
      "outputs": []
    },
    {
      "cell_type": "code",
      "metadata": {
        "id": "ANZw0wwHHeH3"
      },
      "source": [
        "from sklearn.model_selection import train_test_split\r\n",
        "x_train, x_test, y_train, y_test = train_test_split(X, Y, test_size=0.1, random_state=42)"
      ],
      "execution_count": null,
      "outputs": []
    },
    {
      "cell_type": "code",
      "metadata": {
        "id": "PiXbgE6aHheV"
      },
      "source": [
        "from sklearn.preprocessing import StandardScaler\r\n",
        "scaler = StandardScaler()\r\n",
        "scaler.fit(x_train)\r\n",
        "x_train = scaler.transform(x_train)\r\n",
        "x_test = scaler.transform(x_test)"
      ],
      "execution_count": null,
      "outputs": []
    },
    {
      "cell_type": "code",
      "metadata": {
        "id": "55R0kRrdHzqR"
      },
      "source": [
        "def get_cluster_classification(x_data, centroids):\r\n",
        "  clusters=[[] for _ in range(len(centroids))]\r\n",
        "  for s_i,s in enumerate(x_data):\r\n",
        "    min_dist=10000000000000000\r\n",
        "    min_index=0\r\n",
        "    for centroids_index,centroid in enumerate(centroids):\r\n",
        "      dist = np.linalg.norm(s - centroid)\r\n",
        "      if dist<min_dist:\r\n",
        "        min_dist=dist\r\n",
        "        min_index=centroids_index\r\n",
        "    clusters[min_index].append(s_i)\r\n",
        "  return clusters\r\n",
        "\r\n",
        "  "
      ],
      "execution_count": null,
      "outputs": []
    },
    {
      "cell_type": "code",
      "metadata": {
        "id": "xG6JpHN8Io0i"
      },
      "source": [
        "def kmeans(x_train, k, step):\r\n",
        "  centroids=x_train[:k, :]\r\n",
        "  i=0\r\n",
        "  while i<step:\r\n",
        "    clusters=get_cluster_classification(x_train, centroids)\r\n",
        "    new_centroids=[]\r\n",
        "    for c in clusters:\r\n",
        "      new_centroids.append(x_train[c].mean(axis=0))     \r\n",
        "    centroids=new_centroids\r\n",
        "    i=i+1\r\n",
        "  return np.array(centroids)\r\n",
        "      "
      ],
      "execution_count": null,
      "outputs": []
    },
    {
      "cell_type": "markdown",
      "metadata": {
        "id": "i-Ke2xejrFUg"
      },
      "source": [
        ""
      ]
    },
    {
      "cell_type": "code",
      "metadata": {
        "id": "1_yL6egDg01o"
      },
      "source": [
        "centroids = kmeans(x_train, k=3, step=10)\r\n",
        "assert np.allclose(centroids, np.array([\r\n",
        "    [-1.02028733,  0.90854287, -1.32521428, -1.27540932],\r\n",
        "    [ 0.99363929,  0.01896468,  0.90355632,  0.92076921],\r\n",
        "    [-0.22539812, -1.02749927,  0.23322382,  0.15491878]\r\n",
        "])), \"Incorrect centroids for K-means!\""
      ],
      "execution_count": null,
      "outputs": []
    },
    {
      "cell_type": "code",
      "metadata": {
        "id": "ZeNw5LVJMnBn"
      },
      "source": [
        "# Remember, no training is needed for KNN!\r\n",
        "def evaluateKNN_single(k, x_train, y_train, data):\r\n",
        "  listk=[]\r\n",
        "  dw= dict()\r\n",
        "  for i in range(k):\r\n",
        "    min_dis=10000000000000\r\n",
        "    min_index=0\r\n",
        "    for s_i,s in enumerate(x_train):\r\n",
        "      dis=np.linalg.norm(s-data)\r\n",
        "      if dis==0:\r\n",
        "        return y_train[index_x]\r\n",
        "      elif s_i not in listk:\r\n",
        "        if dis<min_dis:\r\n",
        "          min_dis=dis\r\n",
        "          min_index=s_i \r\n",
        "    listk.append(min_index)\r\n",
        "    if (y_train[min_index]) not in dw.keys():\r\n",
        "      dw[(y_train[min_index])]=1/min_dis\r\n",
        "    else:\r\n",
        "      dw[(y_train[min_index])]=dw[(y_train[min_index])]+1/min_dis\r\n",
        "  return max(dw,key=dw.get)\r\n",
        "  "
      ],
      "execution_count": null,
      "outputs": []
    },
    {
      "cell_type": "code",
      "metadata": {
        "id": "kZv_xSlbrHKs"
      },
      "source": [
        "def evaluateKNN(k, x_train=x_train, y_train=y_train, x_test=x_test, y_test=y_test):\r\n",
        "    correct = sum(map(lambda x: evaluateKNN_single(k, x_train, y_train, x[0]) == x[1], zip(x_test, y_test)))\r\n",
        "    print(f'Test accuracy with k={k}: {correct/len(y_test)*100:.4f}% ({correct}/{len(y_test)})')\r\n",
        "    # return the number of correct evaluations for us to check with the solution\r\n",
        "    return correct"
      ],
      "execution_count": null,
      "outputs": []
    },
    {
      "cell_type": "code",
      "metadata": {
        "colab": {
          "base_uri": "https://localhost:8080/"
        },
        "id": "NdKb2JO6V3q0",
        "outputId": "3fdd71af-0e7f-4eac-de6c-82af11ee5ba5"
      },
      "source": [
        "assert evaluateKNN(5) == len(y_test), \"Incorrect accuracy for 5-NN!\""
      ],
      "execution_count": null,
      "outputs": [
        {
          "output_type": "stream",
          "text": [
            "Test accuracy with k=5: 100.0000% (15/15)\n"
          ],
          "name": "stdout"
        }
      ]
    },
    {
      "cell_type": "code",
      "metadata": {
        "colab": {
          "base_uri": "https://localhost:8080/"
        },
        "id": "mKc-yctEWaQo",
        "outputId": "acf84946-a29b-4e00-9845-a544b54917c5"
      },
      "source": [
        "assert evaluateKNN(1) == len(y_test) - 1, \"Incorrect accuracy for 1-NN!\""
      ],
      "execution_count": null,
      "outputs": [
        {
          "output_type": "stream",
          "text": [
            "Test accuracy with k=1: 93.3333% (14/15)\n"
          ],
          "name": "stdout"
        }
      ]
    }
  ]
}